{
 "cells": [
  {
   "cell_type": "code",
   "execution_count": 19,
   "metadata": {},
   "outputs": [],
   "source": [
    "def binarySearch(l,val,lIndex,rIndex):\n",
    "\n",
    "    mid=(lIndex+rIndex)//2\n",
    "    \n",
    "    if lIndex>rIndex:\n",
    "        return -1\n",
    "\n",
    "    if l[mid]==val:\n",
    "        return mid\n",
    "\n",
    "    if val>l[mid]:\n",
    "        return binarySearch(l,val,mid+1,rIndex)\n",
    "\n",
    "    else:\n",
    "        return binarySearch(l,val,lIndex,mid-1)"
   ]
  },
  {
   "cell_type": "code",
   "execution_count": 20,
   "metadata": {},
   "outputs": [
    {
     "name": "stdout",
     "output_type": "stream",
     "text": [
      "0\n",
      "1\n",
      "2\n",
      "3\n",
      "4\n",
      "5\n",
      "6\n",
      "7\n",
      "-1\n"
     ]
    }
   ],
   "source": [
    "numbers=[1,3,5,7,9,11,13,15]\n",
    "\n",
    "for each in numbers:\n",
    "    print(binarySearch(numbers,each,0,len(numbers)))\n",
    "\n",
    "print(binarySearch(numbers,12,0,len(numbers)))"
   ]
  }
 ],
 "metadata": {
  "kernelspec": {
   "display_name": "Python 3",
   "language": "python",
   "name": "python3"
  },
  "language_info": {
   "codemirror_mode": {
    "name": "ipython",
    "version": 3
   },
   "file_extension": ".py",
   "mimetype": "text/x-python",
   "name": "python",
   "nbconvert_exporter": "python",
   "pygments_lexer": "ipython3",
   "version": "3.11.4"
  },
  "orig_nbformat": 4
 },
 "nbformat": 4,
 "nbformat_minor": 2
}
