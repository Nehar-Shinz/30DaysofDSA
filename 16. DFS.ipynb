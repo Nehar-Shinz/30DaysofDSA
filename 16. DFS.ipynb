{
 "cells": [
  {
   "cell_type": "code",
   "execution_count": 22,
   "metadata": {},
   "outputs": [],
   "source": [
    "def dfs(graph,source,res=\"\",visited=set()):\n",
    "    res+=\"==>\"+source\n",
    "    visited.add(source)\n",
    "    for each in graph[source]:\n",
    "        if each not in visited:\n",
    "            res=dfs(graph,each,res)\n",
    "    return res"
   ]
  },
  {
   "cell_type": "code",
   "execution_count": 25,
   "metadata": {},
   "outputs": [],
   "source": [
    "def hasPathUsingDFS(graph,source,destination,visited=set()):\n",
    "    visited.add(source)\n",
    "    if source==destination:\n",
    "        return True\n",
    "\n",
    "    for each in graph[source]:\n",
    "        if each not in visited:\n",
    "            if(hasPathUsingDFS(graph,each,destination)):\n",
    "                return True\n",
    "    \n",
    "    return False\n",
    "        "
   ]
  },
  {
   "cell_type": "code",
   "execution_count": 23,
   "metadata": {},
   "outputs": [],
   "source": [
    "graph={\n",
    "    'a' : ['b','c'],\n",
    "    'b' : ['d'],\n",
    "    'c' : ['e'],\n",
    "    'd' : ['f'],\n",
    "    'e' : ['a'],\n",
    "    'f' : []\n",
    "}"
   ]
  },
  {
   "cell_type": "code",
   "execution_count": 24,
   "metadata": {},
   "outputs": [
    {
     "name": "stdout",
     "output_type": "stream",
     "text": [
      "==>a==>b==>d==>f==>c==>e\n"
     ]
    }
   ],
   "source": [
    "print(dfs(graph,'a'))"
   ]
  },
  {
   "cell_type": "code",
   "execution_count": 26,
   "metadata": {},
   "outputs": [
    {
     "name": "stdout",
     "output_type": "stream",
     "text": [
      "True\n"
     ]
    }
   ],
   "source": [
    "print(hasPathUsingDFS(graph,'a','f'))"
   ]
  }
 ],
 "metadata": {
  "kernelspec": {
   "display_name": "Python 3",
   "language": "python",
   "name": "python3"
  },
  "language_info": {
   "codemirror_mode": {
    "name": "ipython",
    "version": 3
   },
   "file_extension": ".py",
   "mimetype": "text/x-python",
   "name": "python",
   "nbconvert_exporter": "python",
   "pygments_lexer": "ipython3",
   "version": "3.11.4"
  },
  "orig_nbformat": 4
 },
 "nbformat": 4,
 "nbformat_minor": 2
}
