{
 "cells": [
  {
   "cell_type": "code",
   "execution_count": 31,
   "metadata": {},
   "outputs": [],
   "source": [
    "class Graph:\n",
    "    def __init__(self,edges):\n",
    "        self.edges=edges\n",
    "        self.graph_dict={}\n",
    "\n",
    "        for start,end in self.edges:\n",
    "            if start in self.graph_dict:\n",
    "                self.graph_dict[start].append(end)\n",
    "            else:\n",
    "                self.graph_dict[start]=[end]\n",
    "\n",
    "        print(\"Graph: \")\n",
    "        for each in self.graph_dict:\n",
    "            print(f\"{each} : {self.graph_dict[each]}\")\n",
    "        print(\"\\n\")\n",
    "\n",
    "    def getPath(self,start,end,path=[]):\n",
    "        path += start\n",
    "\n",
    "        if start==end:\n",
    "            return path\n",
    "\n",
    "        if start not in self.path_dict:\n",
    "            return []\n",
    "\n",
    "        paths=[]\n",
    "\n",
    "        for node in self.graph_path[start]:\n",
    "            if node not in path:\n",
    "                newPaths=self.getPath(node,end,path)\n",
    "                for each in newPaths:\n",
    "                    paths.append(each)\n",
    "\n",
    "        return paths\n"
   ]
  },
  {
   "cell_type": "code",
   "execution_count": 32,
   "metadata": {},
   "outputs": [
    {
     "name": "stdout",
     "output_type": "stream",
     "text": [
      "Graph: \n",
      "Mumbai : ['Paris', 'Dubai']\n",
      "Paris : ['Dubai', 'New York']\n",
      "Dubai : ['New York']\n",
      "New York : ['Toronto']\n",
      "\n",
      "\n"
     ]
    }
   ],
   "source": [
    "flights=[(\"Mumbai\", \"Paris\"),\n",
    "        (\"Mumbai\", \"Dubai\"),\n",
    "        (\"Paris\", \"Dubai\"),\n",
    "        (\"Paris\", \"New York\"),\n",
    "        (\"Dubai\", \"New York\"),\n",
    "        (\"New York\", \"Toronto\")]\n",
    "\n",
    "flightGraph = Graph(flights)\n"
   ]
  }
 ],
 "metadata": {
  "kernelspec": {
   "display_name": "Python 3",
   "language": "python",
   "name": "python3"
  },
  "language_info": {
   "codemirror_mode": {
    "name": "ipython",
    "version": 3
   },
   "file_extension": ".py",
   "mimetype": "text/x-python",
   "name": "python",
   "nbconvert_exporter": "python",
   "pygments_lexer": "ipython3",
   "version": "3.11.4"
  },
  "orig_nbformat": 4
 },
 "nbformat": 4,
 "nbformat_minor": 2
}
