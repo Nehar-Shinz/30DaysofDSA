{
 "cells": [
  {
   "cell_type": "code",
   "execution_count": 1,
   "metadata": {},
   "outputs": [],
   "source": [
    "def mergeLists(left,right,elements):\n",
    "    leftLen=len(left)\n",
    "    rightLen=len(right)\n",
    "    \n",
    "    # mergedList=[]\n",
    "    k=0\n",
    "\n",
    "    i=j=0\n",
    "\n",
    "\n",
    "    while i<leftLen or j<rightLen:\n",
    "        if i<leftLen:\n",
    "            if j<rightLen:\n",
    "                if left[i]<=right[j]:\n",
    "                    # mergedList.append(left[i])\n",
    "                    elements[k]=left[i]\n",
    "                    k+=1\n",
    "                    i+=1\n",
    "            else:\n",
    "                # mergedList.append(left[i])\n",
    "                elements[k]=left[i]\n",
    "                k+=1\n",
    "                i+=1\n",
    "        if j<rightLen:\n",
    "            if i<leftLen:\n",
    "                if right[j]<=left[i]:\n",
    "                    # mergedList.append(right[j])\n",
    "                    elements[k]=right[j]\n",
    "                    k+=1\n",
    "                    j+=1\n",
    "            else:\n",
    "                # mergedList.append(right[j])\n",
    "                elements[k]=right[j]\n",
    "                k+=1\n",
    "                j+=1\n",
    "    \n",
    "    # return mergedList\n",
    "\n",
    "def mergeSort(elements):\n",
    "    if len(elements)<=1:\n",
    "        return\n",
    "\n",
    "    mid=(len(elements))//2\n",
    "    left=elements[:mid]\n",
    "    right=elements[mid:]\n",
    "\n",
    "    mergeSort(left)\n",
    "    mergeSort(right)\n",
    "\n",
    "    mergeLists(left,right,elements)\n"
   ]
  },
  {
   "cell_type": "code",
   "execution_count": 4,
   "metadata": {},
   "outputs": [
    {
     "name": "stdout",
     "output_type": "stream",
     "text": [
      "[2, 7, 9, 11, 15, 28, 29]\n",
      "[1, 2, 3, 4]\n",
      "[6, 7, 8, 9]\n",
      "[22]\n",
      "[]\n"
     ]
    }
   ],
   "source": [
    "elements=[[11,9,29,7,2,15,28],\n",
    "        [1, 2, 3, 4],\n",
    "        [9, 8, 7, 6],\n",
    "        [22],\n",
    "        []\n",
    "        ]\n",
    "\n",
    "for each in elements:\n",
    "    mergeSort(each)\n",
    "    print(each)"
   ]
  }
 ],
 "metadata": {
  "kernelspec": {
   "display_name": "Python 3",
   "language": "python",
   "name": "python3"
  },
  "language_info": {
   "codemirror_mode": {
    "name": "ipython",
    "version": 3
   },
   "file_extension": ".py",
   "mimetype": "text/x-python",
   "name": "python",
   "nbconvert_exporter": "python",
   "pygments_lexer": "ipython3",
   "version": "3.11.4"
  },
  "orig_nbformat": 4
 },
 "nbformat": 4,
 "nbformat_minor": 2
}
