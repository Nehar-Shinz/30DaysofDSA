{
 "cells": [
  {
   "cell_type": "markdown",
   "metadata": {},
   "source": [
    "<div align=\"center\">\n",
    "\n",
    "<img src=\"Images\\Island-01.png\" height=\"250\"/>\n",
    "<img src=\"Images\\Island-02.png\" height=\"250\"/>\n",
    "\n",
    "</div>"
   ]
  },
  {
   "cell_type": "code",
   "execution_count": 1,
   "metadata": {},
   "outputs": [],
   "source": [
    "#convert list to str(list) while adding to set, since checcking if a list is in set doesn't work as expected\n",
    "\n",
    "def explore(grid,r,c,visited):\n",
    "    if r<0 or r==len(grid) or c<0 or c==len(grid[r]):\n",
    "        return False\n",
    "\n",
    "    if str([r,c]) in visited:\n",
    "        return False\n",
    "\n",
    "    if (grid[r][c]==\"W\"):\n",
    "        return False\n",
    "\n",
    "    visited.add(str([r,c]))\n",
    "\n",
    "    # print(visited)\n",
    "\n",
    "    explore(grid,r+1,c,visited)\n",
    "    explore(grid,r-1,c,visited)\n",
    "    explore(grid,r,c+1,visited)\n",
    "    explore(grid,r,c-1,visited)\n",
    "    \n",
    "    return True\n",
    "\n",
    "def islandCount(grid):\n",
    "    visited=set()\n",
    "    count=0\n",
    "    for r in range(0,len(grid)):\n",
    "        for c in range(0,len(grid[r])):\n",
    "            if(explore(grid,r,c,visited)):\n",
    "                count+=1\n",
    "    return count"
   ]
  },
  {
   "cell_type": "code",
   "execution_count": 2,
   "metadata": {},
   "outputs": [],
   "source": [
    "grid = [\n",
    "  ['W', 'L', 'W', 'W', 'L'],\n",
    "  ['W', 'L', 'W', 'W', 'L'],\n",
    "  ['W', 'W', 'W', 'L', 'W'],\n",
    "  ['W', 'W', 'L', 'L', 'W'],\n",
    "  ['L', 'W', 'W', 'L', 'L'],\n",
    "  ['L', 'L', 'W', 'W', 'W'],\n",
    "]"
   ]
  },
  {
   "cell_type": "code",
   "execution_count": 3,
   "metadata": {},
   "outputs": [
    {
     "name": "stdout",
     "output_type": "stream",
     "text": [
      "4\n"
     ]
    }
   ],
   "source": [
    "print(islandCount(grid)) # -> 3"
   ]
  }
 ],
 "metadata": {
  "kernelspec": {
   "display_name": "Python 3",
   "language": "python",
   "name": "python3"
  },
  "language_info": {
   "codemirror_mode": {
    "name": "ipython",
    "version": 3
   },
   "file_extension": ".py",
   "mimetype": "text/x-python",
   "name": "python",
   "nbconvert_exporter": "python",
   "pygments_lexer": "ipython3",
   "version": "3.11.4"
  },
  "orig_nbformat": 4
 },
 "nbformat": 4,
 "nbformat_minor": 2
}
