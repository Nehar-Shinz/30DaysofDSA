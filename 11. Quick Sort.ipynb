{
 "cells": [
  {
   "cell_type": "code",
   "execution_count": 3,
   "metadata": {},
   "outputs": [],
   "source": [
    "def partition(elements,start,end):\n",
    "    pivotIndex=start\n",
    "    pivot=elements[start]\n",
    "\n",
    "    while start<end:\n",
    "        while elements[start]<=pivot and start<len(elements)-1:\n",
    "            start+=1\n",
    "\n",
    "        while elements[end]>pivot:\n",
    "            end-=1\n",
    "\n",
    "        if start<end:\n",
    "            elements[start],elements[end]=elements[end],elements[start]\n",
    "\n",
    "    elements[pivotIndex],elements[end]=elements[end],elements[pivotIndex]\n",
    "\n",
    "    return end\n",
    "\n",
    "def quickSort(elements,start,end):\n",
    "    if start<end:\n",
    "        p=partition(elements,start,end)\n",
    "        quickSort(elements,start,p-1)\n",
    "        quickSort(elements,p+1,end)\n",
    "        # print(elements)"
   ]
  },
  {
   "cell_type": "code",
   "execution_count": 4,
   "metadata": {},
   "outputs": [
    {
     "name": "stdout",
     "output_type": "stream",
     "text": [
      "[2, 7, 9, 11, 15, 28, 29]\n"
     ]
    }
   ],
   "source": [
    "elements=[11,9,29,7,2,15,28]\n",
    "quickSort(elements,0,len(elements)-1)\n",
    "print(elements)"
   ]
  }
 ],
 "metadata": {
  "kernelspec": {
   "display_name": "Python 3",
   "language": "python",
   "name": "python3"
  },
  "language_info": {
   "codemirror_mode": {
    "name": "ipython",
    "version": 3
   },
   "file_extension": ".py",
   "mimetype": "text/x-python",
   "name": "python",
   "nbconvert_exporter": "python",
   "pygments_lexer": "ipython3",
   "version": "3.11.4"
  },
  "orig_nbformat": 4
 },
 "nbformat": 4,
 "nbformat_minor": 2
}
