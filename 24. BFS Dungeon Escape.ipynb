{
 "cells": [
  {
   "cell_type": "markdown",
   "metadata": {},
   "source": [
    "<div align=\"center\">\n",
    "\n",
    "<img src=\"Images\\Dungeon-01.png\" height=\"200\"/>\n",
    "<img src=\"Images\\Dungeon-02.png\" height=\"200\"/>\n",
    "<img src=\"Images\\Dungeon-03.png\" height=\"200\"/>\n",
    "\n",
    "</div>"
   ]
  },
  {
   "cell_type": "code",
   "execution_count": 1,
   "metadata": {},
   "outputs": [],
   "source": [
    "from collections import deque\n",
    "\n",
    "def escapePath(dungeon,startLocation):\n",
    "    visited={str(startLocation)}\n",
    "    parent={}\n",
    "\n",
    "    queue = deque()\n",
    "    queue.appendleft(startLocation)\n",
    "\n",
    "    destination=None\n",
    "\n",
    "    while(queue):\n",
    "        current=queue.pop()\n",
    "        r=current[0]\n",
    "        c=current[1]\n",
    "        \n",
    "        if c>0 and (str([r,c-1]) not in visited):  #left\n",
    "            if dungeon[r][c-1]!=\"#\":\n",
    "                queue.appendleft([r,c-1])\n",
    "                parent[str([r,c-1])]=str([r,c])\n",
    "                visited.add(str([r,c-1]))\n",
    "                if dungeon[r][c-1]==\"E\":\n",
    "                    destination=str([r,c-1])\n",
    "                    break\n",
    "\n",
    "        if c<(len(dungeon[r])-1) and (str([r,c+1]) not in visited): #right\n",
    "            if dungeon[r][c+1]!=\"#\":\n",
    "                queue.appendleft([r,c+1])\n",
    "                parent[str([r,c+1])]=str([r,c])\n",
    "                visited.add(str([r,c+1]))\n",
    "                if dungeon[r][c+1]==\"E\":\n",
    "                    destination=str([r,c+1])\n",
    "                    break\n",
    "\n",
    "        if r>0 and (str([r-1,c]) not in visited): #up\n",
    "            if dungeon[r-1][c]!=\"#\":\n",
    "                queue.appendleft([r-1,c])\n",
    "                parent[str([r-1,c])]=str([r,c])\n",
    "                visited.add(str([r-1,c]))\n",
    "                if dungeon[r-1][c]==\"E\":\n",
    "                    destination=str([r-1,c])\n",
    "                    break\n",
    "\n",
    "        if r<(len(dungeon)-1) and (str([r+1,c]) not in visited): #down\n",
    "            if dungeon[r+1][c]!=\"#\":\n",
    "                queue.appendleft([r+1,c])\n",
    "                parent[str([r+1,c])]=str([r,c])\n",
    "                visited.add(str([r+1,c]))\n",
    "                if dungeon[r+1][c]==\"E\":\n",
    "                    destination=str([r+1,c])\n",
    "                    break\n",
    "\n",
    "    # print(len(parent))\n",
    "    # print(len(visited))\n",
    "\n",
    "    if destination:\n",
    "        path=[destination]\n",
    "        while destination!=str(startLocation):\n",
    "            path.append(parent[destination])\n",
    "            destination=parent[destination]\n",
    "        path.reverse()    \n",
    "        print(*path,sep=\"==>\")\n",
    "    \n",
    "    # pass"
   ]
  },
  {
   "cell_type": "code",
   "execution_count": 2,
   "metadata": {},
   "outputs": [],
   "source": [
    "dungeon = [\n",
    "  ['S', '.', '.', '#', '.','.','.'],\n",
    "  ['.', '#', '.', '.', '.','#','.'],\n",
    "  ['.', '#', '.', '.', '.','.','.'],\n",
    "  ['.', '.', '#', '#', '.','.','.'],\n",
    "  ['#', '.', '#', 'E', '.','#','.'],\n",
    "]"
   ]
  },
  {
   "cell_type": "code",
   "execution_count": 3,
   "metadata": {},
   "outputs": [
    {
     "name": "stdout",
     "output_type": "stream",
     "text": [
      "[0, 6]==>[0, 5]==>[0, 4]==>[1, 4]==>[2, 4]==>[3, 4]==>[4, 4]==>[4, 3]\n"
     ]
    }
   ],
   "source": [
    "escapePath(dungeon,[0,6])"
   ]
  }
 ],
 "metadata": {
  "kernelspec": {
   "display_name": "Python 3",
   "language": "python",
   "name": "python3"
  },
  "language_info": {
   "codemirror_mode": {
    "name": "ipython",
    "version": 3
   },
   "file_extension": ".py",
   "mimetype": "text/x-python",
   "name": "python",
   "nbconvert_exporter": "python",
   "pygments_lexer": "ipython3",
   "version": "3.11.4"
  },
  "orig_nbformat": 4
 },
 "nbformat": 4,
 "nbformat_minor": 2
}
