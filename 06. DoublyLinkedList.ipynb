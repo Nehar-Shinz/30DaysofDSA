{
 "cells": [
  {
   "cell_type": "code",
   "execution_count": 110,
   "metadata": {},
   "outputs": [],
   "source": [
    "class Node:\n",
    "     def __init__(self,data=None,next=None,prev=None):\n",
    "          self.data=data\n",
    "          self.next=next\n",
    "          self.prev=prev"
   ]
  },
  {
   "cell_type": "code",
   "execution_count": 150,
   "metadata": {},
   "outputs": [],
   "source": [
    "class LinkedList:\n",
    "    def __init__(self):\n",
    "        self.head=Node()\n",
    "    \n",
    "    def insertAtStart(self,data):\n",
    "        if self.head.data==None:\n",
    "            self.head=Node(data)    \n",
    "        else:\n",
    "            self.curr=self.head\n",
    "            self.head=Node(data,self.head,None)\n",
    "            self.curr.prev=self.head\n",
    "        print(\"\\nInserted \" + str(data) + \" at start!\")\n",
    "\n",
    "    \n",
    "    def insertAtEnd(self,data):\n",
    "        if self.head.data==None:\n",
    "            self.head=Node(data)\n",
    "            print(\"\\nLinked List empty, Inserted \" + str(data) + \" at the start!\")\n",
    "        else:\n",
    "            self.itr=self.head\n",
    "            while(self.itr.next!=None):\n",
    "                self.itr=self.itr.next\n",
    "            self.itr.next=Node(data)\n",
    "            self.itr.next.prev=self.itr\n",
    "            print(\"\\nInserted \" + str(data) + \" at the End!\")\n",
    "\n",
    "    def insertAtPosition(self,position,data):\n",
    "        self.itr=self.head\n",
    "        currentPosition=1\n",
    "        if position==1:\n",
    "            self.insertAtStart(data)\n",
    "            return\n",
    "        while(self.itr):\n",
    "            if(currentPosition==position):\n",
    "                self.node=Node(data,self.itr,self.itr.prev)\n",
    "                self.itr.prev.next=self.node\n",
    "                self.itr.prev=self.node\n",
    "                print(\"\\nInserted \" + str(data) + \" at position \" + str(position) + \" between \" + str(self.node.prev.data) + \" and \" + str(self.node.next.data))\n",
    "                return\n",
    "            else:\n",
    "                self.itr=self.itr.next\n",
    "                currentPosition+=1\n",
    "                if(currentPosition==position and self.itr==None):\n",
    "                    self.insertAtEnd(data)\n",
    "                    return\n",
    "        print(\"\\nIndex \" + str(position) + \" out of bounds\")\n",
    "\n",
    "    def deleteAtPosition(self,position):\n",
    "        self.itr=self.head\n",
    "        currentPosition=1\n",
    "        if position==1:\n",
    "            if (self.head):\n",
    "                if(self.head.next):\n",
    "                    self.head.next.prev=None\n",
    "                    self.head=self.head.next\n",
    "                else:\n",
    "                    self.head=Node()\n",
    "            print(\"\\nDeleted  at start\")\n",
    "            return\n",
    "        while(self.itr):\n",
    "            if(currentPosition==position):\n",
    "                if(self.itr.next):\n",
    "                    self.itr.next.prev=self.itr.prev\n",
    "                self.itr.prev.next=self.itr.next\n",
    "                print(\"\\nDeleted \" + str(self.itr.data) + \" at position \" + str(position) + \" between \" + str(self.itr.prev.data) + \" and \" + str((self.itr.next.data) if self.itr.next!=None else None))\n",
    "                return\n",
    "            else:\n",
    "                self.itr=self.itr.next\n",
    "                currentPosition+=1\n",
    "        print(\"\\nIndex \" + str(position) + \" out of bounds\")\n",
    "\n",
    "    def deleteByValue(self,data):\n",
    "        self.itr=self.head\n",
    "        currentPosition=1\n",
    "        while(self.itr):\n",
    "            if(self.itr.data==data):\n",
    "                if currentPosition==1:\n",
    "                    if (self.head):\n",
    "                        if(self.head.next):\n",
    "                            self.head.next.prev=None\n",
    "                            self.head=self.head.next\n",
    "                        else:\n",
    "                            self.head=Node()\n",
    "                else:\n",
    "                    if(self.itr.next):\n",
    "                        self.itr.next.prev=self.itr.prev\n",
    "                    self.itr.prev.next=self.itr.next\n",
    "                print(\"\\nDeleted \" + str(self.itr.data) + \" at position \" + str(currentPosition))\n",
    "                return\n",
    "            self.itr=self.itr.next\n",
    "            currentPosition+=1\n",
    "        print(\"\\nElement \" + str(data) + \" not found!\")\n",
    "            \n",
    "\n",
    "    def printLinkedList(self):\n",
    "        if self.head==None:\n",
    "            print(\"Linked List is Empty\")\n",
    "        else:\n",
    "            self.itr=self.head\n",
    "            while(self.itr!=None):\n",
    "                print(str(self.itr.data)+\"(\"+str(self.itr.prev.data if self.itr.prev!=None else None)+\",\"+str(self.itr.next.data if self.itr.next!=None else None)+\")==>\",end=\"\")\n",
    "                self.itr=self.itr.next"
   ]
  },
  {
   "cell_type": "code",
   "execution_count": 155,
   "metadata": {},
   "outputs": [],
   "source": [
    "ll=LinkedList()"
   ]
  },
  {
   "cell_type": "code",
   "execution_count": 156,
   "metadata": {},
   "outputs": [
    {
     "name": "stdout",
     "output_type": "stream",
     "text": [
      "None(None,None)==>\n",
      "Inserted 30 at start!\n",
      "30(None,None)==>\n",
      "Inserted 20 at start!\n",
      "20(None,30)==>30(20,None)==>\n",
      "Inserted 10 at start!\n",
      "10(None,20)==>20(10,30)==>30(20,None)==>"
     ]
    }
   ],
   "source": [
    "ll.printLinkedList()\n",
    "ll.insertAtStart(30)\n",
    "ll.printLinkedList()\n",
    "ll.insertAtStart(20)\n",
    "ll.printLinkedList()\n",
    "ll.insertAtStart(10)\n",
    "ll.printLinkedList()\n"
   ]
  },
  {
   "cell_type": "code",
   "execution_count": 157,
   "metadata": {},
   "outputs": [
    {
     "name": "stdout",
     "output_type": "stream",
     "text": [
      "10(None,20)==>20(10,30)==>30(20,None)==>\n",
      "Inserted 40 at the End!\n",
      "10(None,20)==>20(10,30)==>30(20,40)==>40(30,None)==>\n",
      "Inserted 50 at the End!\n",
      "10(None,20)==>20(10,30)==>30(20,40)==>40(30,50)==>50(40,None)==>\n",
      "Inserted 60 at the End!\n",
      "10(None,20)==>20(10,30)==>30(20,40)==>40(30,50)==>50(40,60)==>60(50,None)==>"
     ]
    }
   ],
   "source": [
    "ll.printLinkedList()\n",
    "ll.insertAtEnd(40)\n",
    "ll.printLinkedList()\n",
    "ll.insertAtEnd(50)\n",
    "ll.printLinkedList()\n",
    "ll.insertAtEnd(60)\n",
    "ll.printLinkedList()"
   ]
  },
  {
   "cell_type": "code",
   "execution_count": 158,
   "metadata": {},
   "outputs": [
    {
     "name": "stdout",
     "output_type": "stream",
     "text": [
      "10(None,20)==>20(10,30)==>30(20,40)==>40(30,50)==>50(40,60)==>60(50,None)==>\n",
      "Inserted 5 at start!\n",
      "5(None,10)==>10(5,20)==>20(10,30)==>30(20,40)==>40(30,50)==>50(40,60)==>60(50,None)==>\n",
      "Inserted 15 at position 3 between 10 and 20\n",
      "5(None,10)==>10(5,15)==>15(10,20)==>20(15,30)==>30(20,40)==>40(30,50)==>50(40,60)==>60(50,None)==>\n",
      "Inserted 65 at the End!\n",
      "5(None,10)==>10(5,15)==>15(10,20)==>20(15,30)==>30(20,40)==>40(30,50)==>50(40,60)==>60(50,65)==>65(60,None)==>\n",
      "Index 11 out of bounds\n"
     ]
    }
   ],
   "source": [
    "ll.printLinkedList()\n",
    "ll.insertAtPosition(1,5)\n",
    "ll.printLinkedList()\n",
    "ll.insertAtPosition(3,15)\n",
    "ll.printLinkedList()\n",
    "ll.insertAtPosition(9,65)\n",
    "ll.printLinkedList()\n",
    "ll.insertAtPosition(11,70)"
   ]
  },
  {
   "cell_type": "code",
   "execution_count": 159,
   "metadata": {},
   "outputs": [
    {
     "name": "stdout",
     "output_type": "stream",
     "text": [
      "5(None,10)==>10(5,15)==>15(10,20)==>20(15,30)==>30(20,40)==>40(30,50)==>50(40,60)==>60(50,65)==>65(60,None)==>\n",
      "Deleted 15 at position 3 between 10 and 20\n",
      "5(None,10)==>10(5,20)==>20(10,30)==>30(20,40)==>40(30,50)==>50(40,60)==>60(50,65)==>65(60,None)==>\n",
      "Deleted  at start\n",
      "10(None,20)==>20(10,30)==>30(20,40)==>40(30,50)==>50(40,60)==>60(50,65)==>65(60,None)==>\n",
      "Deleted 65 at position 7 between 60 and None\n",
      "10(None,20)==>20(10,30)==>30(20,40)==>40(30,50)==>50(40,60)==>60(50,None)==>\n",
      "Index 7 out of bounds\n"
     ]
    }
   ],
   "source": [
    "ll.printLinkedList()\n",
    "ll.deleteAtPosition(3)\n",
    "ll.printLinkedList()\n",
    "ll.deleteAtPosition(1)\n",
    "ll.printLinkedList()\n",
    "ll.deleteAtPosition(7)\n",
    "ll.printLinkedList()\n",
    "ll.deleteAtPosition(7)"
   ]
  },
  {
   "cell_type": "code",
   "execution_count": 160,
   "metadata": {},
   "outputs": [
    {
     "name": "stdout",
     "output_type": "stream",
     "text": [
      "10(None,20)==>20(10,30)==>30(20,40)==>40(30,50)==>50(40,60)==>60(50,None)==>\n",
      "Deleted 10 at position 1\n",
      "20(None,30)==>30(20,40)==>40(30,50)==>50(40,60)==>60(50,None)==>\n",
      "Deleted 30 at position 2\n",
      "20(None,40)==>40(20,50)==>50(40,60)==>60(50,None)==>\n",
      "Deleted 60 at position 4\n",
      "20(None,40)==>40(20,50)==>50(40,None)==>\n",
      "Element 60 not found!\n"
     ]
    }
   ],
   "source": [
    "ll.printLinkedList()\n",
    "ll.deleteByValue(10)\n",
    "ll.printLinkedList()\n",
    "ll.deleteByValue(30)\n",
    "ll.printLinkedList()\n",
    "ll.deleteByValue(60)\n",
    "ll.printLinkedList()\n",
    "ll.deleteByValue(60)"
   ]
  },
  {
   "cell_type": "code",
   "execution_count": 152,
   "metadata": {},
   "outputs": [
    {
     "name": "stdout",
     "output_type": "stream",
     "text": [
      "\n",
      "Linked List empty, Inserted 10 at the start!\n",
      "10(None,None)==>\n",
      "Deleted  at start\n",
      "None(None,None)==>\n",
      "Inserted 10 at start!\n",
      "10(None,None)==>\n",
      "Deleted 10 at position 1\n",
      "None(None,None)==>"
     ]
    }
   ],
   "source": [
    "ll.insertAtEnd(10)\n",
    "ll.printLinkedList()\n",
    "ll.deleteAtPosition(1)\n",
    "ll.printLinkedList()\n",
    "ll.insertAtStart(10)\n",
    "ll.printLinkedList()\n",
    "ll.deleteByValue(10)\n",
    "ll.printLinkedList()"
   ]
  }
 ],
 "metadata": {
  "kernelspec": {
   "display_name": "Python 3",
   "language": "python",
   "name": "python3"
  },
  "language_info": {
   "codemirror_mode": {
    "name": "ipython",
    "version": 3
   },
   "file_extension": ".py",
   "mimetype": "text/x-python",
   "name": "python",
   "nbconvert_exporter": "python",
   "pygments_lexer": "ipython3",
   "version": "3.11.4"
  },
  "orig_nbformat": 4
 },
 "nbformat": 4,
 "nbformat_minor": 2
}
