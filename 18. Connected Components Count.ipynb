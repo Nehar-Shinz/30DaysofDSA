{
 "cells": [
  {
   "cell_type": "markdown",
   "metadata": {},
   "source": [
    "<div align=\"center\">\n",
    "\n",
    "<img src=\"Images\\ConnectedComponent-01.png\" height=\"200\"/>\n",
    "<img src=\"Images\\ConnectedComponent-02.png\" height=\"200\"/>\n",
    "\n",
    "</div>"
   ]
  },
  {
   "cell_type": "code",
   "execution_count": 2,
   "metadata": {},
   "outputs": [],
   "source": [
    "def exploreConnectedComponents(graph,source,visited):\n",
    "    visited.add(source)\n",
    "\n",
    "    for each in graph[source]:\n",
    "        if each not in visited:\n",
    "            exploreConnectedComponents(graph,each,visited)\n",
    "\n",
    "\n",
    "def countConnectedComponenets(graph):\n",
    "    visited=set()\n",
    "    count=0\n",
    "    for node in graph:\n",
    "        if node not in visited:\n",
    "            count+=1\n",
    "            exploreConnectedComponents(graph,node,visited)\n",
    "    return(count)"
   ]
  },
  {
   "cell_type": "code",
   "execution_count": 7,
   "metadata": {},
   "outputs": [],
   "source": [
    "graph={\n",
    "    0:[8,1,5],\n",
    "    1:[0],\n",
    "    5:[0,8],\n",
    "    8:[0,5],\n",
    "    2:[3,4],\n",
    "    3:[2,4],\n",
    "    4:[3,2],\n",
    "    6:[9],\n",
    "    9:[6]\n",
    "}"
   ]
  },
  {
   "cell_type": "code",
   "execution_count": 8,
   "metadata": {},
   "outputs": [
    {
     "name": "stdout",
     "output_type": "stream",
     "text": [
      "3\n"
     ]
    }
   ],
   "source": [
    "print(countConnectedComponenets(graph))"
   ]
  }
 ],
 "metadata": {
  "kernelspec": {
   "display_name": "Python 3",
   "language": "python",
   "name": "python3"
  },
  "language_info": {
   "codemirror_mode": {
    "name": "ipython",
    "version": 3
   },
   "file_extension": ".py",
   "mimetype": "text/x-python",
   "name": "python",
   "nbconvert_exporter": "python",
   "pygments_lexer": "ipython3",
   "version": "3.11.4"
  },
  "orig_nbformat": 4
 },
 "nbformat": 4,
 "nbformat_minor": 2
}
