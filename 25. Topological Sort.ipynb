{
 "cells": [
  {
   "cell_type": "markdown",
   "metadata": {},
   "source": [
    "<div align=\"center\">\n",
    "\n",
    "<p>A topological order is like a prerequisite order, a node N is added to order if all the incoming nodes to N is already present.</p>\n",
    "<br>\n",
    "<img src=\"Images\\TopSort.png\" height=\"250\"/>\n",
    "<br>\n",
    "<p>Note: one graph may have many possible orders.</p>\n",
    "<p>Another possible order for above graph: E F K C B A D G H I J L M</p>\n",
    "\n",
    "</div>"
   ]
  },
  {
   "cell_type": "code",
   "execution_count": 46,
   "metadata": {},
   "outputs": [],
   "source": [
    "from collections import deque\n",
    "\n",
    "def dfs(graph,source,visited):\n",
    "    if (graph[source]==[]) and (source not in visited):\n",
    "        visited.appendleft(source)\n",
    "        return\n",
    "\n",
    "    if source in visited:\n",
    "        return\n",
    "\n",
    "    for each in graph[source]:\n",
    "        dfs(graph,each,visited)\n",
    "        if each not in visited:\n",
    "            visited.appendleft(each)\n",
    "\n",
    "\n",
    "def topSort(graph):\n",
    "    visited=deque()\n",
    "    for each in graph:\n",
    "        dfs(graph,each,visited)\n",
    "        if each not in visited:\n",
    "            visited.appendleft(each)\n",
    "\n",
    "    # print(visited)\n",
    "    # print(*visited)\n",
    "    print([*visited],sep=\",\")"
   ]
  },
  {
   "cell_type": "code",
   "execution_count": 19,
   "metadata": {},
   "outputs": [],
   "source": [
    "graph={\n",
    "    'A':['D'],\n",
    "    'B':['D'],\n",
    "    'C':['A','B'],\n",
    "    'D':['H','G'],\n",
    "    'E':['A','D','F'],\n",
    "    'F':['K','J'],\n",
    "    'G':['I'],\n",
    "    'H':['J','I'],\n",
    "    'I':['L'],\n",
    "    'J':['M','L'],\n",
    "    'K':['J'],\n",
    "    'L':[],\n",
    "    'M':[]\n",
    "}\n"
   ]
  },
  {
   "cell_type": "code",
   "execution_count": 47,
   "metadata": {},
   "outputs": [
    {
     "name": "stdout",
     "output_type": "stream",
     "text": [
      "['E', 'F', 'K', 'C', 'B', 'A', 'D', 'G', 'H', 'I', 'J', 'L', 'M']\n"
     ]
    }
   ],
   "source": [
    "topSort(graph)"
   ]
  }
 ],
 "metadata": {
  "kernelspec": {
   "display_name": "Python 3",
   "language": "python",
   "name": "python3"
  },
  "language_info": {
   "codemirror_mode": {
    "name": "ipython",
    "version": 3
   },
   "file_extension": ".py",
   "mimetype": "text/x-python",
   "name": "python",
   "nbconvert_exporter": "python",
   "pygments_lexer": "ipython3",
   "version": "3.11.4"
  },
  "orig_nbformat": 4
 },
 "nbformat": 4,
 "nbformat_minor": 2
}
