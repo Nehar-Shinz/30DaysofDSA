{
 "cells": [
  {
   "cell_type": "code",
   "execution_count": 28,
   "metadata": {},
   "outputs": [],
   "source": [
    "class HashMap:\n",
    "    def __init__(self):\n",
    "        self.MAX=10\n",
    "        self.arr=[[] for i in range(self.MAX)]\n",
    "\n",
    "    def getHash(self,key):\n",
    "        hash=0\n",
    "        for char in key:\n",
    "            hash+=ord(char)\n",
    "        hash%=10\n",
    "        return hash\n",
    "\n",
    "    def __setitem__(self,key,val):\n",
    "        h=self.getHash(key)\n",
    "        for i, elem in enumerate(self.arr[h]):\n",
    "            if len(elem)==2 and elem[0]==key:\n",
    "                self.arr[h][i]=(key,val)\n",
    "                return        \n",
    "        self.arr[h].append((key,val))\n",
    "\n",
    "    def __getitem__(self,key):\n",
    "        h=self.getHash(key)\n",
    "        for elem in self.arr[h]:\n",
    "            if elem[0]==key:\n",
    "                return elem[1]\n",
    "\n",
    "    def  __delitem__(self,key):\n",
    "        h=self.getHash(key)\n",
    "        for i,elem in enumerate(self.arr[h]):\n",
    "            if elem[0]==key:\n",
    "                del self.arr[h][i]"
   ]
  },
  {
   "cell_type": "code",
   "execution_count": 29,
   "metadata": {},
   "outputs": [],
   "source": [
    "hashMap = HashMap()"
   ]
  },
  {
   "cell_type": "code",
   "execution_count": 31,
   "metadata": {},
   "outputs": [],
   "source": [
    "hashMap['march 6']=300\n",
    "hashMap['march 17']=400\n",
    "hashMap['march 27']=500\n",
    "hashMap['march 12']=600\n"
   ]
  },
  {
   "cell_type": "code",
   "execution_count": 33,
   "metadata": {},
   "outputs": [
    {
     "data": {
      "text/plain": [
       "300"
      ]
     },
     "execution_count": 33,
     "metadata": {},
     "output_type": "execute_result"
    }
   ],
   "source": [
    "hashMap['march 6']"
   ]
  },
  {
   "cell_type": "code",
   "execution_count": 36,
   "metadata": {},
   "outputs": [],
   "source": [
    "del hashMap['march 27']"
   ]
  },
  {
   "cell_type": "code",
   "execution_count": 37,
   "metadata": {},
   "outputs": [
    {
     "data": {
      "text/plain": [
       "[[], [], [], [], [('march 12', 600)], [], [], [], [], [('march 17', 400)]]"
      ]
     },
     "execution_count": 37,
     "metadata": {},
     "output_type": "execute_result"
    }
   ],
   "source": [
    "hashMap.arr"
   ]
  }
 ],
 "metadata": {
  "kernelspec": {
   "display_name": "Python 3",
   "language": "python",
   "name": "python3"
  },
  "language_info": {
   "codemirror_mode": {
    "name": "ipython",
    "version": 3
   },
   "file_extension": ".py",
   "mimetype": "text/x-python",
   "name": "python",
   "nbconvert_exporter": "python",
   "pygments_lexer": "ipython3",
   "version": "3.11.4"
  },
  "orig_nbformat": 4
 },
 "nbformat": 4,
 "nbformat_minor": 2
}
