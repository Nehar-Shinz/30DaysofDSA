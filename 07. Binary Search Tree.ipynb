{
 "cells": [
  {
   "cell_type": "code",
   "execution_count": 37,
   "metadata": {},
   "outputs": [],
   "source": [
    "class BST:\n",
    "    def __init__(self,data):\n",
    "        self.data=data\n",
    "        self.left=None\n",
    "        self.right=None\n",
    "\n",
    "    def addChild(self,data):\n",
    "        if self.data==data:\n",
    "            return\n",
    "\n",
    "        if data<self.data:\n",
    "            if self.left:\n",
    "                self.left.addChild(data)\n",
    "            else:\n",
    "                self.left = BST(data)\n",
    "        else:\n",
    "            if self.right:\n",
    "                self.right.addChild(data)\n",
    "            else:\n",
    "                self.right = BST(data)\n",
    "\n",
    "    def inOrderTraverse(self):\n",
    "        ele=[]\n",
    "\n",
    "        if self.left:\n",
    "            ele+=self.left.inOrderTraverse()\n",
    "\n",
    "        ele.append(self.data)\n",
    "\n",
    "        if self.right:\n",
    "            ele+=self.right.inOrderTraverse()\n",
    "        \n",
    "        return ele\n",
    "\n",
    "    def searchElement(self,data):\n",
    "        if self.data==data:\n",
    "            return True\n",
    "\n",
    "        if data<self.data:\n",
    "            if self.left:\n",
    "                return self.left.searchElement(data)          \n",
    "            else:\n",
    "                return False\n",
    "        if data>self.data:\n",
    "            if self.right:\n",
    "                return self. right.searchElement(data)\n",
    "            else:\n",
    "                return False\n",
    "\n",
    "    def getMin(self):\n",
    "        if self.left != None:\n",
    "            return self.left.getMin()\n",
    "        return self.data\n",
    "\n",
    "    def getMax(self):\n",
    "        if self.right !=None:\n",
    "            return self.right.getMax()\n",
    "        return self.data\n",
    "        \n",
    "\n",
    "    def deleteElement(self,data):\n",
    "        \n",
    "        if data>self.data:\n",
    "            self.right = self.right.deleteElement(data)\n",
    "        \n",
    "        elif data<self.data:\n",
    "            self.left = self.left.deleteElement(data)\n",
    "\n",
    "        else:\n",
    "            if self.left==None and self.right==None:\n",
    "                return None\n",
    "            if self.right==None:\n",
    "                return self.left\n",
    "            if self.left==None:\n",
    "                return self.right\n",
    "\n",
    "            minVal = self.right.getMin()\n",
    "            self.data = minVal\n",
    "            self.right = self.right.deleteElement(minVal)\n",
    "\n",
    "            # maxVal = self.left.getMax()\n",
    "            # self.data = maxVal\n",
    "            # self.left = self.left.deleteElement(maxVal)\n",
    "        \n",
    "        return self\n",
    "            \n",
    "\n",
    "def buildTree(elements):\n",
    "    root = BST(elements[0])\n",
    "    for i in range(1,len(elements)):\n",
    "        root.addChild(elements[i])\n",
    "    return root"
   ]
  },
  {
   "cell_type": "code",
   "execution_count": 118,
   "metadata": {},
   "outputs": [],
   "source": [
    "tree = buildTree([17,4,1,20,9,23,18,34])"
   ]
  },
  {
   "cell_type": "code",
   "execution_count": 113,
   "metadata": {},
   "outputs": [],
   "source": [
    "tree=buildTree([1,2,3,4])"
   ]
  },
  {
   "cell_type": "code",
   "execution_count": 96,
   "metadata": {},
   "outputs": [],
   "source": [
    "tree=buildTree([4,3,2,1])"
   ]
  },
  {
   "cell_type": "code",
   "execution_count": 97,
   "metadata": {},
   "outputs": [
    {
     "name": "stdout",
     "output_type": "stream",
     "text": [
      "[1, 2, 3, 4]\n",
      "False\n"
     ]
    }
   ],
   "source": [
    "print(tree.inOrderTraverse())\n",
    "\n",
    "print(tree.searchElement(12))"
   ]
  },
  {
   "cell_type": "code",
   "execution_count": 119,
   "metadata": {},
   "outputs": [
    {
     "name": "stdout",
     "output_type": "stream",
     "text": [
      "[1, 9, 17, 18, 20, 23, 34]\n"
     ]
    }
   ],
   "source": [
    "tree=tree.deleteElement(4)\n",
    "\n",
    "print(tree.inOrderTraverse())"
   ]
  }
 ],
 "metadata": {
  "kernelspec": {
   "display_name": "Python 3",
   "language": "python",
   "name": "python3"
  },
  "language_info": {
   "codemirror_mode": {
    "name": "ipython",
    "version": 3
   },
   "file_extension": ".py",
   "mimetype": "text/x-python",
   "name": "python",
   "nbconvert_exporter": "python",
   "pygments_lexer": "ipython3",
   "version": "3.11.4"
  },
  "orig_nbformat": 4
 },
 "nbformat": 4,
 "nbformat_minor": 2
}
