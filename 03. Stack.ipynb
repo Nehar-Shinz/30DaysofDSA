{
 "cells": [
  {
   "cell_type": "code",
   "execution_count": 13,
   "metadata": {},
   "outputs": [],
   "source": [
    "# Using List (Not recommended as list dynamically copies its entirity when current location has no more free space)\n",
    "Stack=[]"
   ]
  },
  {
   "cell_type": "code",
   "execution_count": 14,
   "metadata": {},
   "outputs": [
    {
     "name": "stdout",
     "output_type": "stream",
     "text": [
      "[]\n",
      "[1]\n",
      "[1, 2]\n",
      "[1, 2, 3]\n",
      "[1, 2]\n",
      "[1]\n",
      "[]\n"
     ]
    }
   ],
   "source": [
    "print(Stack)\n",
    "Stack.append(1)\n",
    "print(Stack)\n",
    "Stack.append(2)\n",
    "print(Stack)\n",
    "Stack.append(3)\n",
    "print(Stack)\n",
    "Stack.pop()\n",
    "print(Stack)\n",
    "Stack.pop()\n",
    "print(Stack)\n",
    "Stack.pop()\n",
    "print(Stack)"
   ]
  },
  {
   "cell_type": "code",
   "execution_count": 15,
   "metadata": {},
   "outputs": [],
   "source": [
    "# Using deque\n",
    "from collections import deque\n",
    "Stack=deque()"
   ]
  },
  {
   "cell_type": "code",
   "execution_count": 11,
   "metadata": {},
   "outputs": [
    {
     "data": {
      "text/plain": [
       "['__add__',\n",
       " '__class__',\n",
       " '__class_getitem__',\n",
       " '__contains__',\n",
       " '__copy__',\n",
       " '__delattr__',\n",
       " '__delitem__',\n",
       " '__dir__',\n",
       " '__doc__',\n",
       " '__eq__',\n",
       " '__format__',\n",
       " '__ge__',\n",
       " '__getattribute__',\n",
       " '__getitem__',\n",
       " '__getstate__',\n",
       " '__gt__',\n",
       " '__hash__',\n",
       " '__iadd__',\n",
       " '__imul__',\n",
       " '__init__',\n",
       " '__init_subclass__',\n",
       " '__iter__',\n",
       " '__le__',\n",
       " '__len__',\n",
       " '__lt__',\n",
       " '__mul__',\n",
       " '__ne__',\n",
       " '__new__',\n",
       " '__reduce__',\n",
       " '__reduce_ex__',\n",
       " '__repr__',\n",
       " '__reversed__',\n",
       " '__rmul__',\n",
       " '__setattr__',\n",
       " '__setitem__',\n",
       " '__sizeof__',\n",
       " '__str__',\n",
       " '__subclasshook__',\n",
       " 'append',\n",
       " 'appendleft',\n",
       " 'clear',\n",
       " 'copy',\n",
       " 'count',\n",
       " 'extend',\n",
       " 'extendleft',\n",
       " 'index',\n",
       " 'insert',\n",
       " 'maxlen',\n",
       " 'pop',\n",
       " 'popleft',\n",
       " 'remove',\n",
       " 'reverse',\n",
       " 'rotate']"
      ]
     },
     "execution_count": 11,
     "metadata": {},
     "output_type": "execute_result"
    }
   ],
   "source": [
    "dir(deque)"
   ]
  },
  {
   "cell_type": "code",
   "execution_count": 16,
   "metadata": {},
   "outputs": [
    {
     "name": "stdout",
     "output_type": "stream",
     "text": [
      "deque([])\n",
      "deque([1])\n",
      "deque([1, 2])\n",
      "deque([1, 2, 3])\n",
      "deque([1, 2])\n",
      "deque([1])\n",
      "deque([])\n"
     ]
    }
   ],
   "source": [
    "print(Stack)\n",
    "Stack.append(1)\n",
    "print(Stack)\n",
    "Stack.append(2)\n",
    "print(Stack)\n",
    "Stack.append(3)\n",
    "print(Stack)\n",
    "Stack.pop()\n",
    "print(Stack)\n",
    "Stack.pop()\n",
    "print(Stack)\n",
    "Stack.pop()\n",
    "print(Stack)"
   ]
  },
  {
   "cell_type": "code",
   "execution_count": 25,
   "metadata": {},
   "outputs": [],
   "source": [
    "# Using deque and a custom class (just for semantics)\n",
    "from collections import deque\n",
    "class Stack:\n",
    "    def __init__(self):\n",
    "        self.bucket=deque()\n",
    "    def push(self,data):\n",
    "        self.bucket.append(data)\n",
    "    def pop(self):\n",
    "        self.bucket.pop()\n",
    "    def peek(self):\n",
    "        print(self.bucket[-1])\n",
    "    def size(self):\n",
    "        print(len(self.bucket))"
   ]
  },
  {
   "cell_type": "code",
   "execution_count": 31,
   "metadata": {},
   "outputs": [
    {
     "name": "stdout",
     "output_type": "stream",
     "text": [
      "deque([])\n",
      "deque([9])\n",
      "deque([9, 8])\n",
      "deque([9, 8, 7])\n",
      "7\n",
      "deque([9, 8, 7])\n",
      "deque([9, 8])\n",
      "2\n",
      "deque([9])\n",
      "deque([])\n"
     ]
    }
   ],
   "source": [
    "s=Stack()\n",
    "print(s.bucket)\n",
    "s.push(9)\n",
    "print(s.bucket)\n",
    "s.push(8)\n",
    "print(s.bucket)\n",
    "s.push(7)\n",
    "print(s.bucket)\n",
    "s.peek()\n",
    "print(s.bucket)\n",
    "s.pop()\n",
    "print(s.bucket)\n",
    "s.size()\n",
    "s.pop()\n",
    "print(s.bucket)\n",
    "s.pop()\n",
    "print(s.bucket)"
   ]
  }
 ],
 "metadata": {
  "kernelspec": {
   "display_name": "Python 3",
   "language": "python",
   "name": "python3"
  },
  "language_info": {
   "codemirror_mode": {
    "name": "ipython",
    "version": 3
   },
   "file_extension": ".py",
   "mimetype": "text/x-python",
   "name": "python",
   "nbconvert_exporter": "python",
   "pygments_lexer": "ipython3",
   "version": "3.11.4"
  },
  "orig_nbformat": 4
 },
 "nbformat": 4,
 "nbformat_minor": 2
}
