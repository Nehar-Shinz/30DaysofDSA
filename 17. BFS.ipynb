{
 "cells": [
  {
   "cell_type": "code",
   "execution_count": 1,
   "metadata": {},
   "outputs": [],
   "source": [
    "from collections import deque\n",
    "# print(dir(deque))\n",
    "\n",
    "def bfs(graph,source):\n",
    "    res=\"\"\n",
    "    queue = deque()\n",
    "    queue.appendleft(source)\n",
    "    visited=[source]\n",
    "\n",
    "    while (queue):\n",
    "        current=queue.pop()\n",
    "        res+=\"==>\"+current\n",
    "\n",
    "        for each in graph[current]:\n",
    "            if each not in visited:\n",
    "                queue.appendleft(each)\n",
    "\n",
    "    return res    "
   ]
  },
  {
   "cell_type": "code",
   "execution_count": 4,
   "metadata": {},
   "outputs": [],
   "source": [
    "def hasPathUsingBFS(graph,source,destination):\n",
    "    queue = deque()\n",
    "    queue.appendleft(source)\n",
    "    visited=[source]\n",
    "\n",
    "    while (queue):\n",
    "        current=queue.pop()\n",
    "        if current==destination:\n",
    "            return True\n",
    "\n",
    "        for each in graph[current]:\n",
    "            if each not in visited:\n",
    "                queue.appendleft(each)\n",
    "\n",
    "    return False"
   ]
  },
  {
   "cell_type": "code",
   "execution_count": 10,
   "metadata": {},
   "outputs": [],
   "source": [
    "graph={\n",
    "    'a' : ['b','c'],\n",
    "    'b' : ['d'],\n",
    "    'c' : ['e','a'],\n",
    "    'd' : ['f'],\n",
    "    'e' : [],\n",
    "    'f' : []\n",
    "}"
   ]
  },
  {
   "cell_type": "code",
   "execution_count": 7,
   "metadata": {},
   "outputs": [
    {
     "name": "stdout",
     "output_type": "stream",
     "text": [
      "==>a==>b==>c==>d==>e==>f\n"
     ]
    }
   ],
   "source": [
    "print(bfs(graph,'a'))"
   ]
  },
  {
   "cell_type": "code",
   "execution_count": 9,
   "metadata": {},
   "outputs": [
    {
     "name": "stdout",
     "output_type": "stream",
     "text": [
      "True\n"
     ]
    }
   ],
   "source": [
    "print(hasPathUsingBFS(graph,'a','f'))"
   ]
  }
 ],
 "metadata": {
  "kernelspec": {
   "display_name": "Python 3",
   "language": "python",
   "name": "python3"
  },
  "language_info": {
   "codemirror_mode": {
    "name": "ipython",
    "version": 3
   },
   "file_extension": ".py",
   "mimetype": "text/x-python",
   "name": "python",
   "nbconvert_exporter": "python",
   "pygments_lexer": "ipython3",
   "version": "3.11.4"
  },
  "orig_nbformat": 4
 },
 "nbformat": 4,
 "nbformat_minor": 2
}
