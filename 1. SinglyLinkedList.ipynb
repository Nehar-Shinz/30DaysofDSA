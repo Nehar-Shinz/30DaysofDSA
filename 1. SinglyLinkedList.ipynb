{
 "cells": [
  {
   "cell_type": "code",
   "execution_count": 11,
   "metadata": {},
   "outputs": [],
   "source": [
    "class Node:\n",
    "     def __init__(self,data=None,next=None):\n",
    "          self.data=data\n",
    "          self.next=next"
   ]
  },
  {
   "cell_type": "code",
   "execution_count": 12,
   "metadata": {},
   "outputs": [],
   "source": [
    "class LinkedList:\n",
    "    def __init__(self):\n",
    "        self.head=Node()\n",
    "    \n",
    "    def insertAtStart(self,data):\n",
    "        if self.head.data==None:\n",
    "            self.head=Node(data)    \n",
    "        else:\n",
    "            self.head=Node(data,self.head)\n",
    "        print(\"\\nInserted \" + str(data) + \" at start!\")\n",
    "\n",
    "    \n",
    "    def insertAtEnd(self,data):\n",
    "        if self.head.data==None:\n",
    "            self.head=Node(data)\n",
    "            print(\"\\nLinked List empty, Inserted \" + str(data) + \" at the start!\")\n",
    "        else:\n",
    "            self.itr=self.head\n",
    "            while(self.itr.next!=None):\n",
    "                self.itr=self.itr.next\n",
    "            self.itr.next=Node(data)\n",
    "            print(\"\\nInserted \" + str(data) + \" at the End!\")\n",
    "\n",
    "    def insertAtPosition(self,position,data):\n",
    "        self.itr=self.head\n",
    "        self.prev=self.itr\n",
    "        currentPosition=1\n",
    "        if position==1:\n",
    "            self.insertAtStart(data)\n",
    "            return\n",
    "        while(self.itr):\n",
    "            if(currentPosition==position):\n",
    "                self.itr=Node(data,self.itr)\n",
    "                self.prev.next=self.itr\n",
    "                print(\"\\nInserted \" + str(data) + \" at position \" + str(position) + \" between \" + str(self.prev.data) + \" and \" + str(self.itr.next.data))\n",
    "                return\n",
    "            else:\n",
    "                self.prev=self.itr\n",
    "                self.itr=self.itr.next\n",
    "                currentPosition+=1\n",
    "                if(currentPosition==position and self.itr==None):\n",
    "                    self.insertAtEnd(data)\n",
    "                    return\n",
    "        print(\"\\nIndex \" + str(position) + \" out of bounds\")\n",
    "\n",
    "    def deleteAtPosition(self,position):\n",
    "        self.itr=self.head\n",
    "        self.prev=self.itr\n",
    "        currentPosition=1\n",
    "        if position==1:\n",
    "            self.head=self.head.next\n",
    "            print(\"\\nDeleted  at start\")\n",
    "            return\n",
    "        while(self.itr):\n",
    "            if(currentPosition==position):\n",
    "                self.prev.next=self.itr.next\n",
    "                print(\"\\nDeleted \" + str(self.itr.data) + \" at position \" + str(position) + \" between \" + str(self.prev.data) + \" and \" + str((self.itr.next.data) if self.itr.next!=None else None))\n",
    "                return\n",
    "            else:\n",
    "                self.prev=self.itr\n",
    "                self.itr=self.itr.next\n",
    "                currentPosition+=1\n",
    "        print(\"\\nIndex \" + str(position) + \" out of bounds\")\n",
    "\n",
    "    def deleteByValue(self,data):\n",
    "        self.itr=self.head\n",
    "        self.prev=self.itr\n",
    "        currentPosition=1\n",
    "        while(self.itr):\n",
    "            if(self.itr.data==data):\n",
    "                    if(currentPosition==1):\n",
    "                        self.itr=self.itr.next\n",
    "                        print(\"\\nDeleted \" + str(self.itr.data) + \" at position at start\")\n",
    "                        return\n",
    "                    else:\n",
    "                        print(\"\\nDeleted \" + str(self.itr.data) + \" at position \" + str(currentPosition))\n",
    "                        self.prev.next=self.itr.next\n",
    "                        return\n",
    "            self.prev=self.itr\n",
    "            self.itr=self.itr.next\n",
    "            currentPosition+=1\n",
    "        print(\"\\nElement \" + str(data) + \" not found!\")\n",
    "            \n",
    "\n",
    "\n",
    "    def printLinkedList(self):\n",
    "        if self.head==None:\n",
    "            print(\"\\nLinked List is Empty\")\n",
    "        else:\n",
    "            self.itr=self.head\n",
    "            while(self.itr!=None):\n",
    "                print(self.itr.data,\"==>\",end=\"\")\n",
    "                self.itr=self.itr.next\n",
    "    \n"
   ]
  },
  {
   "cell_type": "code",
   "execution_count": 13,
   "metadata": {},
   "outputs": [],
   "source": [
    "ll=LinkedList()"
   ]
  },
  {
   "cell_type": "code",
   "execution_count": 14,
   "metadata": {},
   "outputs": [
    {
     "name": "stdout",
     "output_type": "stream",
     "text": [
      "\n",
      "Linked List empty, Inserted 40 at the start!\n",
      "40 ==>\n",
      "Inserted 30 at start!\n",
      "30 ==>40 ==>\n",
      "Inserted 20 at start!\n",
      "20 ==>30 ==>40 ==>\n",
      "Inserted 10 at start!\n",
      "10 ==>20 ==>30 ==>40 ==>\n",
      "Inserted 50 at the End!\n",
      "10 ==>20 ==>30 ==>40 ==>50 ==>\n",
      "Inserted 15 at position 2 between 10 and 20\n",
      "10 ==>15 ==>20 ==>30 ==>40 ==>50 ==>\n",
      "Inserted 5 at start!\n",
      "5 ==>10 ==>15 ==>20 ==>30 ==>40 ==>50 ==>\n",
      "Inserted 45 at position 7 between 40 and 50\n",
      "5 ==>10 ==>15 ==>20 ==>30 ==>40 ==>45 ==>50 ==>\n",
      "Inserted 60 at the End!\n",
      "5 ==>10 ==>15 ==>20 ==>30 ==>40 ==>45 ==>50 ==>60 ==>"
     ]
    }
   ],
   "source": [
    "ll.insertAtEnd(40)\n",
    "ll.printLinkedList()\n",
    "ll.insertAtStart(30)\n",
    "ll.printLinkedList()\n",
    "ll.insertAtStart(20)\n",
    "ll.printLinkedList()\n",
    "ll.insertAtStart(10)\n",
    "ll.printLinkedList()\n",
    "ll.insertAtEnd(50)\n",
    "ll.printLinkedList()\n",
    "ll.insertAtPosition(2,15)\n",
    "ll.printLinkedList()\n",
    "ll.insertAtPosition(1,5)\n",
    "ll.printLinkedList()\n",
    "ll.insertAtPosition(7,45)\n",
    "ll.printLinkedList()\n",
    "ll.insertAtPosition(9,60)\n",
    "ll.printLinkedList()\n"
   ]
  },
  {
   "cell_type": "code",
   "execution_count": 5,
   "metadata": {},
   "outputs": [
    {
     "name": "stdout",
     "output_type": "stream",
     "text": [
      "5 ==>10 ==>15 ==>20 ==>30 ==>40 ==>45 ==>50 ==>60 ==>\n",
      "Index 11 out of bounds\n",
      "5 ==>10 ==>15 ==>20 ==>30 ==>40 ==>45 ==>50 ==>60 ==>\n",
      "Deleted  at start\n",
      "10 ==>15 ==>20 ==>30 ==>40 ==>45 ==>50 ==>60 ==>\n",
      "Deleted 15 at position 2 between 10 and 20\n",
      "10 ==>20 ==>30 ==>40 ==>45 ==>50 ==>60 ==>\n",
      "Deleted 60 at position 7 between 50 and None\n",
      "10 ==>20 ==>30 ==>40 ==>45 ==>50 ==>\n",
      "Index 9 out of bounds\n"
     ]
    }
   ],
   "source": [
    "# ll.insertAtPosition(9,60)\n",
    "ll.printLinkedList()\n",
    "ll.insertAtPosition(11,80)\n",
    "ll.printLinkedList()\n",
    "ll.deleteAtPosition(1)\n",
    "ll.printLinkedList()\n",
    "ll.deleteAtPosition(2)\n",
    "ll.printLinkedList()\n",
    "ll.deleteAtPosition(7)\n",
    "ll.printLinkedList()\n",
    "ll.deleteAtPosition(9)"
   ]
  },
  {
   "cell_type": "code",
   "execution_count": 15,
   "metadata": {},
   "outputs": [
    {
     "name": "stdout",
     "output_type": "stream",
     "text": [
      "5 ==>10 ==>15 ==>20 ==>30 ==>40 ==>45 ==>50 ==>60 ==>"
     ]
    }
   ],
   "source": [
    "ll.printLinkedList()"
   ]
  },
  {
   "cell_type": "code",
   "execution_count": 16,
   "metadata": {},
   "outputs": [
    {
     "name": "stdout",
     "output_type": "stream",
     "text": [
      "5 ==>10 ==>15 ==>20 ==>30 ==>40 ==>45 ==>50 ==>60 ==>\n",
      "Deleted 30 at position 5\n",
      "5 ==>10 ==>15 ==>20 ==>40 ==>45 ==>50 ==>60 ==>\n",
      "Deleted 10 at position at start\n",
      "5 ==>10 ==>15 ==>20 ==>40 ==>45 ==>50 ==>60 ==>\n",
      "Deleted 60 at position 8\n",
      "5 ==>10 ==>15 ==>20 ==>40 ==>45 ==>50 ==>\n",
      "Element 70 not found!\n",
      "5 ==>10 ==>15 ==>20 ==>40 ==>45 ==>50 ==>"
     ]
    }
   ],
   "source": [
    "ll.printLinkedList()\n",
    "ll.deleteByValue(30)\n",
    "ll.printLinkedList()\n",
    "ll.deleteByValue(5)\n",
    "ll.printLinkedList()\n",
    "ll.deleteByValue(60)\n",
    "ll.printLinkedList()\n",
    "ll.deleteByValue(70)\n",
    "ll.printLinkedList()"
   ]
  }
 ],
 "metadata": {
  "kernelspec": {
   "display_name": "Python 3",
   "language": "python",
   "name": "python3"
  },
  "language_info": {
   "codemirror_mode": {
    "name": "ipython",
    "version": 3
   },
   "file_extension": ".py",
   "mimetype": "text/x-python",
   "name": "python",
   "nbconvert_exporter": "python",
   "pygments_lexer": "ipython3",
   "version": "3.11.4"
  },
  "orig_nbformat": 4
 },
 "nbformat": 4,
 "nbformat_minor": 2
}
