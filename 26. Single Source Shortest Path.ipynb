{
 "cells": [
  {
   "cell_type": "markdown",
   "metadata": {},
   "source": [
    "<div align=\"center\">\n",
    "\n",
    "<img src=\"Images\\SSSP.png\" height=\"500\"/>\n",
    "\n",
    "</div>"
   ]
  },
  {
   "cell_type": "code",
   "execution_count": 127,
   "metadata": {},
   "outputs": [],
   "source": [
    "from collections import deque\n",
    "\n",
    "def dfs(graph,source,visited):\n",
    "    if (graph[source]==[]) and (source not in visited):\n",
    "        visited.appendleft(source)\n",
    "        return\n",
    "\n",
    "    if source in visited:\n",
    "        return\n",
    "\n",
    "    for each in graph[source]:\n",
    "        dfs(graph,each[0],visited)\n",
    "        if each[0] not in visited:\n",
    "            visited.appendleft(each[0])\n",
    "\n",
    "\n",
    "def topSort(graph):\n",
    "    visited=deque()\n",
    "    for each in graph:\n",
    "        dfs(graph,each[0],visited)\n",
    "        if each[0] not in visited:\n",
    "            visited.appendleft(each[0])\n",
    "\n",
    "    # print(visited)\n",
    "    # print(*visited)\n",
    "    # print([*visited],sep=\",\")\n",
    "\n",
    "    return list(visited)\n",
    "\n",
    "def SSSP(graph,order,source):\n",
    "    cost={}\n",
    "    visited=set()\n",
    "    foundSource=False\n",
    "    for each in order:\n",
    "        if each==source:\n",
    "            cost[each]=0\n",
    "            visited.add(source)\n",
    "            foundSource=True\n",
    "        else:\n",
    "            if foundSource==False:\n",
    "                continue\n",
    "        for node in graph[each]:\n",
    "            if node==[]:\n",
    "                continue\n",
    "            if each in cost:\n",
    "                if node[0] in visited:\n",
    "                    if cost[node[0]]>cost[each]+node[1]:\n",
    "                        cost[node[0]]=cost[each]+node[1]\n",
    "                else:\n",
    "                    cost[node[0]]=cost[each]+node[1]\n",
    "                    visited.add(node[0])\n",
    "\n",
    "            # if node[0]==order[-1]:\n",
    "    return cost\n"
   ]
  },
  {
   "cell_type": "code",
   "execution_count": 137,
   "metadata": {},
   "outputs": [],
   "source": [
    "graph={\n",
    "    'A':[['B',3],['C',6]],\n",
    "    'B':[['C',4],['D',4],['E',11]],\n",
    "    'C':[['D',8],['G',11]],\n",
    "    'D':[['E',-4],['F',5],['G',2]],\n",
    "    'E':[['H',9]],\n",
    "    'F':[['H',1]],\n",
    "    'G':[['H',2]],\n",
    "    'H':[]\n",
    "}"
   ]
  },
  {
   "cell_type": "code",
   "execution_count": 132,
   "metadata": {},
   "outputs": [
    {
     "name": "stdout",
     "output_type": "stream",
     "text": [
      "['A', 'B', 'C', 'D', 'G', 'F', 'E', 'H']\n"
     ]
    }
   ],
   "source": [
    "order=topSort(graph)\n",
    "\n",
    "print(order)"
   ]
  },
  {
   "cell_type": "code",
   "execution_count": 139,
   "metadata": {},
   "outputs": [
    {
     "name": "stdout",
     "output_type": "stream",
     "text": [
      "{'A': 0, 'B': 3, 'C': 6, 'D': 7, 'E': 3, 'G': 9, 'F': 12, 'H': 11}\n"
     ]
    }
   ],
   "source": [
    "print(SSSP(graph,order,'A'))"
   ]
  }
 ],
 "metadata": {
  "kernelspec": {
   "display_name": "Python 3",
   "language": "python",
   "name": "python3"
  },
  "language_info": {
   "codemirror_mode": {
    "name": "ipython",
    "version": 3
   },
   "file_extension": ".py",
   "mimetype": "text/x-python",
   "name": "python",
   "nbconvert_exporter": "python",
   "pygments_lexer": "ipython3",
   "version": "3.11.4"
  },
  "orig_nbformat": 4
 },
 "nbformat": 4,
 "nbformat_minor": 2
}
