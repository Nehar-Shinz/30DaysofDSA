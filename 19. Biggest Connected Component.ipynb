{
 "cells": [
  {
   "cell_type": "markdown",
   "metadata": {},
   "source": [
    "<div align=\"center\">\n",
    "\n",
    "<img src=\"Images\\LargestComponent-01.png\" height=\"200\"/>\n",
    "<img src=\"Images\\LargestComponent-02.png\" height=\"200\"/>\n",
    "\n",
    "</div>"
   ]
  },
  {
   "cell_type": "code",
   "execution_count": 1,
   "metadata": {},
   "outputs": [],
   "source": [
    "def exploreConnectedComponents(graph,source,visited,size=0):\n",
    "    visited.add(source)\n",
    "    size+=1\n",
    "\n",
    "    for each in graph[source]:\n",
    "        if each not in visited:\n",
    "            size=exploreConnectedComponents(graph,each,visited,size)\n",
    "\n",
    "    return size\n",
    "\n",
    "def biggestConnectedComponenetSize(graph):\n",
    "    visited=set()\n",
    "    maxSize=0\n",
    "    for node in graph:\n",
    "        if node not in visited:\n",
    "            size=exploreConnectedComponents(graph,node,visited)\n",
    "            maxSize=max(size,maxSize)\n",
    "\n",
    "    return maxSize"
   ]
  },
  {
   "cell_type": "code",
   "execution_count": 21,
   "metadata": {},
   "outputs": [],
   "source": [
    "graph={\n",
    "    0:[8,1,5],\n",
    "    1:[0],\n",
    "    5:[0,8],\n",
    "    8:[0,5],\n",
    "    2:[3,4],\n",
    "    3:[2,4],\n",
    "    4:[3,2],\n",
    "    6:[9],\n",
    "    9:[6] \n",
    "}"
   ]
  },
  {
   "cell_type": "code",
   "execution_count": 22,
   "metadata": {},
   "outputs": [
    {
     "name": "stdout",
     "output_type": "stream",
     "text": [
      "4\n"
     ]
    }
   ],
   "source": [
    "print(biggestConnectedComponenetSize(graph))"
   ]
  }
 ],
 "metadata": {
  "kernelspec": {
   "display_name": "Python 3",
   "language": "python",
   "name": "python3"
  },
  "language_info": {
   "codemirror_mode": {
    "name": "ipython",
    "version": 3
   },
   "file_extension": ".py",
   "mimetype": "text/x-python",
   "name": "python",
   "nbconvert_exporter": "python",
   "pygments_lexer": "ipython3",
   "version": "3.11.4"
  },
  "orig_nbformat": 4
 },
 "nbformat": 4,
 "nbformat_minor": 2
}
