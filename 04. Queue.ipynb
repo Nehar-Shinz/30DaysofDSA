{
 "cells": [
  {
   "cell_type": "code",
   "execution_count": 1,
   "metadata": {},
   "outputs": [],
   "source": [
    "# Using List (Not recommended as list dynamically copies its entirity when current location has no more free space)\n",
    "Queue=[]"
   ]
  },
  {
   "cell_type": "code",
   "execution_count": 2,
   "metadata": {},
   "outputs": [
    {
     "name": "stdout",
     "output_type": "stream",
     "text": [
      "[]\n",
      "[1]\n",
      "[1, 2]\n",
      "[1, 2, 3]\n",
      "[1, 2]\n",
      "[1]\n",
      "[]\n"
     ]
    }
   ],
   "source": [
    "print(Queue)\n",
    "Queue.append(1)\n",
    "print(Queue)\n",
    "Queue.append(2)\n",
    "print(Queue)\n",
    "Queue.append(3)\n",
    "print(Queue)\n",
    "Queue.pop()\n",
    "print(Queue)\n",
    "Queue.pop()\n",
    "print(Queue)\n",
    "Queue.pop()\n",
    "print(Queue)"
   ]
  },
  {
   "cell_type": "code",
   "execution_count": 4,
   "metadata": {},
   "outputs": [],
   "source": [
    "from collections import deque\n",
    "Queue=deque()"
   ]
  },
  {
   "cell_type": "code",
   "execution_count": 5,
   "metadata": {},
   "outputs": [
    {
     "name": "stdout",
     "output_type": "stream",
     "text": [
      "deque([])\n",
      "deque([1])\n",
      "deque([2, 1])\n",
      "deque([3, 2, 1])\n",
      "deque([3, 2])\n",
      "deque([3])\n",
      "deque([])\n"
     ]
    }
   ],
   "source": [
    "print(Queue)\n",
    "Queue.appendleft(1)\n",
    "print(Queue)\n",
    "Queue.appendleft(2)\n",
    "print(Queue)\n",
    "Queue.appendleft(3)\n",
    "print(Queue)\n",
    "Queue.pop()\n",
    "print(Queue)\n",
    "Queue.pop()\n",
    "print(Queue)\n",
    "Queue.pop()\n",
    "print(Queue)"
   ]
  },
  {
   "cell_type": "code",
   "execution_count": 10,
   "metadata": {},
   "outputs": [],
   "source": [
    "from collections import deque\n",
    "class Queue:\n",
    "    def __init__(self):\n",
    "        self.bucket=deque()\n",
    "    def enqueue(self,data):\n",
    "        self.bucket.appendleft(data)\n",
    "    def dequeue(self):\n",
    "        self.bucket.pop()\n",
    "    def peek(self):\n",
    "        print(self.bucket[-1])\n",
    "    def size(self):\n",
    "        print(len(self.bucket))"
   ]
  },
  {
   "cell_type": "code",
   "execution_count": 11,
   "metadata": {},
   "outputs": [
    {
     "name": "stdout",
     "output_type": "stream",
     "text": [
      "deque([])\n",
      "deque([9])\n",
      "deque([8, 9])\n",
      "deque([7, 8, 9])\n",
      "9\n",
      "deque([7, 8, 9])\n",
      "deque([7, 8])\n",
      "2\n",
      "deque([7])\n",
      "deque([])\n"
     ]
    }
   ],
   "source": [
    "s=Queue()\n",
    "print(s.bucket)\n",
    "s.enqueue(9)\n",
    "print(s.bucket)\n",
    "s.enqueue(8)\n",
    "print(s.bucket)\n",
    "s.enqueue(7)\n",
    "print(s.bucket)\n",
    "s.peek()\n",
    "print(s.bucket)\n",
    "s.dequeue()\n",
    "print(s.bucket)\n",
    "s.size()\n",
    "s.dequeue()\n",
    "print(s.bucket)\n",
    "s.dequeue()\n",
    "print(s.bucket)"
   ]
  }
 ],
 "metadata": {
  "kernelspec": {
   "display_name": "Python 3",
   "language": "python",
   "name": "python3"
  },
  "language_info": {
   "codemirror_mode": {
    "name": "ipython",
    "version": 3
   },
   "file_extension": ".py",
   "mimetype": "text/x-python",
   "name": "python",
   "nbconvert_exporter": "python",
   "pygments_lexer": "ipython3",
   "version": "3.11.4"
  },
  "orig_nbformat": 4
 },
 "nbformat": 4,
 "nbformat_minor": 2
}
