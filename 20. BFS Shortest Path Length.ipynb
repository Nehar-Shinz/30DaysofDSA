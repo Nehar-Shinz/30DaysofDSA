{
 "cells": [
  {
   "cell_type": "code",
   "execution_count": 36,
   "metadata": {},
   "outputs": [],
   "source": [
    "from collections import deque\n",
    "\n",
    "def shortestPathLength(graph,source,destination):\n",
    "    visited={source}\n",
    "    queue=deque()\n",
    "    queue.appendleft([source,0])\n",
    "\n",
    "    while(queue):\n",
    "        current=queue.pop()\n",
    "        # print(current)\n",
    "        value=current[0]\n",
    "        distance=current[1]\n",
    "\n",
    "        if value==destination:\n",
    "            return distance\n",
    "        \n",
    "        for each in graph[value]:    \n",
    "            if each not in visited:\n",
    "                visited.add(each)\n",
    "                queue.appendleft([each,distance+1])\n",
    "\n",
    "    return -1\n",
    "    # pass"
   ]
  },
  {
   "cell_type": "code",
   "execution_count": 37,
   "metadata": {},
   "outputs": [],
   "source": [
    "graph={\n",
    "    'a' : ['b','c'],\n",
    "    'b' : ['d'],\n",
    "    'c' : ['e','a'],\n",
    "    'd' : ['f'],\n",
    "    'e' : [],\n",
    "    'f' : []\n",
    "}"
   ]
  },
  {
   "cell_type": "code",
   "execution_count": 39,
   "metadata": {},
   "outputs": [
    {
     "name": "stdout",
     "output_type": "stream",
     "text": [
      "2\n"
     ]
    }
   ],
   "source": [
    "print(shortestPathLength(graph,'a','e'))"
   ]
  }
 ],
 "metadata": {
  "kernelspec": {
   "display_name": "Python 3",
   "language": "python",
   "name": "python3"
  },
  "language_info": {
   "codemirror_mode": {
    "name": "ipython",
    "version": 3
   },
   "file_extension": ".py",
   "mimetype": "text/x-python",
   "name": "python",
   "nbconvert_exporter": "python",
   "pygments_lexer": "ipython3",
   "version": "3.11.4"
  },
  "orig_nbformat": 4
 },
 "nbformat": 4,
 "nbformat_minor": 2
}
