{
 "cells": [
  {
   "cell_type": "code",
   "execution_count": 3,
   "metadata": {},
   "outputs": [],
   "source": [
    "class TreeNode:\n",
    "    def __init__(self,data):\n",
    "        self.data=data\n",
    "        self.children=[]\n",
    "        self.parent=None\n",
    "    \n",
    "    def addChild(self,child):\n",
    "        child.parent=self\n",
    "        self.children.append(child)\n",
    "    \n",
    "    def buildTree(self):\n",
    "        root = self\n",
    "\n",
    "        Karnataka = TreeNode(\"Karnataka\")\n",
    "        Karnataka.addChild(TreeNode(\"Bangalore\"))\n",
    "        Karnataka.addChild(TreeNode(\"Mysore\"))\n",
    "        Karnataka.addChild(TreeNode(\"Coorg\"))\n",
    "\n",
    "        Kerala = TreeNode(\"kerala\")\n",
    "        Kerala.addChild(TreeNode(\"Kannur\"))\n",
    "        Kerala.addChild(TreeNode(\"Kochi\"))\n",
    "        Kerala.addChild(TreeNode(\"Thrissur\"))\n",
    "\n",
    "        TamilNadu = TreeNode(\"Tamil Nadu\")\n",
    "        TamilNadu.addChild(TreeNode(\"Chennai\"))\n",
    "        TamilNadu.addChild(TreeNode(\"Madurai\"))\n",
    "        TamilNadu.addChild(TreeNode(\"Coimbatore\"))\n",
    "\n",
    "        root.addChild(Karnataka)\n",
    "        root.addChild(Kerala)\n",
    "        root.addChild(TamilNadu)\n",
    "\n",
    "    def getLevel(self):\n",
    "        level=0\n",
    "        p=self.parent\n",
    "        while(p):\n",
    "            p=p.parent\n",
    "            level+=1\n",
    "        return level\n",
    "\n",
    "    def printTree(self):\n",
    "        print(\" \" * self.getLevel() * 4,\"'--\",end=\"\")\n",
    "        print(self.data)\n",
    "        if self.children:\n",
    "            for child in self.children:\n",
    "                child.printTree()\n"
   ]
  },
  {
   "cell_type": "code",
   "execution_count": 4,
   "metadata": {},
   "outputs": [],
   "source": [
    "tree=TreeNode(\"India\")"
   ]
  },
  {
   "cell_type": "code",
   "execution_count": 5,
   "metadata": {},
   "outputs": [],
   "source": [
    "tree.buildTree()"
   ]
  },
  {
   "cell_type": "code",
   "execution_count": 6,
   "metadata": {},
   "outputs": [
    {
     "name": "stdout",
     "output_type": "stream",
     "text": [
      " '--India\n",
      "     '--Karnataka\n",
      "         '--Bangalore\n",
      "         '--Mysore\n",
      "         '--Coorg\n",
      "     '--kerala\n",
      "         '--Kannur\n",
      "         '--Kochi\n",
      "         '--Thrissur\n",
      "     '--Tamil Nadu\n",
      "         '--Chennai\n",
      "         '--Madurai\n",
      "         '--Coimbatore\n"
     ]
    }
   ],
   "source": [
    "tree.printTree()"
   ]
  }
 ],
 "metadata": {
  "kernelspec": {
   "display_name": "Python 3",
   "language": "python",
   "name": "python3"
  },
  "language_info": {
   "codemirror_mode": {
    "name": "ipython",
    "version": 3
   },
   "file_extension": ".py",
   "mimetype": "text/x-python",
   "name": "python",
   "nbconvert_exporter": "python",
   "pygments_lexer": "ipython3",
   "version": "3.11.4"
  },
  "orig_nbformat": 4
 },
 "nbformat": 4,
 "nbformat_minor": 2
}
