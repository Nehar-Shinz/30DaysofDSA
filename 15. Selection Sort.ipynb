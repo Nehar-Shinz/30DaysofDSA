{
 "cells": [
  {
   "cell_type": "code",
   "execution_count": 1,
   "metadata": {},
   "outputs": [],
   "source": [
    "def selectionSort(elements):\n",
    "    for i in range(len(elements)-1):\n",
    "        minIndex=i\n",
    "        for j in range(i+1,len(elements)):\n",
    "            if elements[j]<elements[minIndex]:\n",
    "                minIndex=j\n",
    "        elements[i],elements[minIndex]=elements[minIndex],elements[i]"
   ]
  },
  {
   "cell_type": "code",
   "execution_count": 2,
   "metadata": {},
   "outputs": [
    {
     "name": "stdout",
     "output_type": "stream",
     "text": [
      "[2, 7, 9, 11, 15, 28, 29]\n",
      "[1, 2, 3, 4]\n",
      "[6, 7, 8, 9]\n",
      "[22]\n",
      "[]\n"
     ]
    }
   ],
   "source": [
    "elements=[[11,9,29,7,2,15,28],\n",
    "        [1, 2, 3, 4],\n",
    "        [9, 8, 7, 6],\n",
    "        [22],\n",
    "        []\n",
    "        ]\n",
    "\n",
    "for each in elements:\n",
    "    selectionSort(each)\n",
    "    print(each)"
   ]
  }
 ],
 "metadata": {
  "kernelspec": {
   "display_name": "Python 3",
   "language": "python",
   "name": "python3"
  },
  "language_info": {
   "codemirror_mode": {
    "name": "ipython",
    "version": 3
   },
   "file_extension": ".py",
   "mimetype": "text/x-python",
   "name": "python",
   "nbconvert_exporter": "python",
   "pygments_lexer": "ipython3",
   "version": "3.11.4"
  },
  "orig_nbformat": 4
 },
 "nbformat": 4,
 "nbformat_minor": 2
}
