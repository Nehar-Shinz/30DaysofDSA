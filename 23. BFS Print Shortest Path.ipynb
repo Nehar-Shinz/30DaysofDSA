{
 "cells": [
  {
   "cell_type": "code",
   "execution_count": 40,
   "metadata": {},
   "outputs": [],
   "source": [
    "from collections import deque\n",
    "\n",
    "def getShortestPath(graph,source,destination):\n",
    "    visited=set()\n",
    "    visited.add(source)\n",
    "\n",
    "    parent={}\n",
    "\n",
    "    res=[]\n",
    "\n",
    "    path=[destination]\n",
    "\n",
    "    queue = deque()\n",
    "    queue.appendleft(source)\n",
    "\n",
    "    while(queue):\n",
    "        current=queue.pop()\n",
    "        visited.add(current)\n",
    "        res.append(current)\n",
    "\n",
    "        for each in graph[current]:\n",
    "            if each not in visited:\n",
    "                queue.appendleft(each)\n",
    "                parent[each]=current\n",
    "\n",
    "        \n",
    "    while(destination!=source):\n",
    "        destination=parent[destination]\n",
    "        path.append(destination)\n",
    "\n",
    "    path.reverse()\n",
    "    # print(parent)\n",
    "    print(*res,sep='==>')\n",
    "    print(*path,sep='==>')\n"
   ]
  },
  {
   "cell_type": "code",
   "execution_count": 42,
   "metadata": {},
   "outputs": [],
   "source": [
    "graph={\n",
    "    'a' : ['b','c'],\n",
    "    'b' : ['d'],\n",
    "    'c' : ['e','a'],\n",
    "    'd' : ['f'],\n",
    "    'e' : [],\n",
    "    'f' : []\n",
    "}"
   ]
  },
  {
   "cell_type": "code",
   "execution_count": 45,
   "metadata": {},
   "outputs": [
    {
     "name": "stdout",
     "output_type": "stream",
     "text": [
      "c==>e==>a==>b==>d==>f\n",
      "c==>a==>b==>d==>f\n"
     ]
    }
   ],
   "source": [
    "# print(getShortestPath(graph,'a','e'))\n",
    "\n",
    "getShortestPath(graph,'c','f')"
   ]
  }
 ],
 "metadata": {
  "kernelspec": {
   "display_name": "Python 3",
   "language": "python",
   "name": "python3"
  },
  "language_info": {
   "codemirror_mode": {
    "name": "ipython",
    "version": 3
   },
   "file_extension": ".py",
   "mimetype": "text/x-python",
   "name": "python",
   "nbconvert_exporter": "python",
   "pygments_lexer": "ipython3",
   "version": "3.11.4"
  },
  "orig_nbformat": 4
 },
 "nbformat": 4,
 "nbformat_minor": 2
}
